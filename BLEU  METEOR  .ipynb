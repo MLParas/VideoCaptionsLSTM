{
 "cells": [
  {
   "cell_type": "code",
   "execution_count": null,
   "id": "4p7uPVpqq6bL",
   "metadata": {
    "id": "4p7uPVpqq6bL"
   },
   "outputs": [],
   "source": []
  },
  {
   "cell_type": "code",
   "execution_count": null,
   "id": "675066a2",
   "metadata": {
    "id": "675066a2"
   },
   "outputs": [],
   "source": [
    "#!/usr/bin/env python3\n",
    "import sys\n",
    "import sacrebleu\n",
    "from nltk.translate.meteor_score import meteor_score\n",
    "\n",
    "def detokenize(tokens):\n",
    "    \"\"\"\n",
    "    A simple detokenizer: joins tokens with a space.\n",
    "    Adjust if your tokens require special handling.\n",
    "    \"\"\"\n",
    "    return \" \".join(tokens)\n",
    "\n",
    "def read_and_detokenize(filename):\n",
    "    \"\"\"\n",
    "    Reads a file where each line is a tokenized sentence,\n",
    "    splits the line into tokens, detokenizes them, and returns a list of sentences.\n",
    "    \"\"\"\n",
    "    sentences = []\n",
    "    with open(filename, 'r', encoding='utf-8') as f:\n",
    "        for line in f:\n",
    "            tokens = line.strip().split()\n",
    "            # If you have a more sophisticated detokenizer, call it here.\n",
    "            sentences.append(detokenize(tokens))\n",
    "    return sentences\n",
    "\n",
    "def main():\n",
    "    if len(sys.argv) < 3:\n",
    "        print(\"Usage: python evaluate_scores.py <reference_file> <prediction_file>\")\n",
    "        sys.exit(1)\n",
    "    \n",
    "    reference_file = sys.argv[1]  # e.g. FinalTestGreedy.txt\n",
    "    prediction_file = sys.argv[2]  # e.g. Finaltesting_label2.txt\n",
    "\n",
    "    # Read and detokenize the references and predictions\n",
    "    refs = read_and_detokenize(reference_file)\n",
    "    preds = read_and_detokenize(prediction_file)\n",
    "    \n",
    "    if len(refs) != len(preds):\n",
    "        print(\"Warning: Number of reference sentences and predictions differ!\")\n",
    "    \n",
    "    bleu_output_file = \"bleu_scores.txt\"\n",
    "    meteor_output_file = \"meteor_scores.txt\"\n",
    "    \n",
    "    bleu_scores = []\n",
    "    meteor_scores = []\n",
    "    \n",
    "    with open(bleu_output_file, \"w\", encoding='utf-8') as out_bleu, \\\n",
    "         open(meteor_output_file, \"w\", encoding='utf-8') as out_meteor:\n",
    "        \n",
    "        for ref, pred in zip(refs, preds):\n",
    "            # sacreBLEU expects the prediction as a string and references as a list\n",
    "            bleu = sacrebleu.sentence_bleu(pred, [ref], smooth_method='exp')\n",
    "            meteor = meteor_score([ref], pred)\n",
    "            bleu_scores.append(bleu.score)\n",
    "            meteor_scores.append(meteor)\n",
    "            \n",
    "            print(f\"Reference: {ref}\\nPrediction: {pred}\")\n",
    "            print(f\"BLEU: {bleu.score:.2f}, METEOR: {meteor:.2f}\\n\")\n",
    "            \n",
    "            out_bleu.write(f\"{bleu.score}\\n\")\n",
    "            out_meteor.write(f\"{meteor}\\n\")\n",
    "    \n",
    "    print(\"Evaluation complete!\")\n",
    "    print(f\"Average BLEU: {sum(bleu_scores)/len(bleu_scores):.2f}\")\n",
    "    print(f\"Average METEOR: {sum(meteor_scores)/len(meteor_scores):.2f}\")\n",
    "    print(f\"BLEU scores saved to: {bleu_output_file}\")\n",
    "    print(f\"METEOR scores saved to: {meteor_output_file}\")\n",
    "\n",
    "if __name__ == \"__main__\":\n",
    "    main()\n"
   ]
  },
  {
   "cell_type": "code",
   "execution_count": null,
   "id": "a94983fa",
   "metadata": {
    "id": "a94983fa"
   },
   "outputs": [],
   "source": []
  }
 ],
 "metadata": {
  "colab": {
   "name": "BLEU  METEOR  .ipynb",
   "provenance": []
  },
  "kernelspec": {
   "display_name": "Python 3 (ipykernel)",
   "language": "python",
   "name": "python3"
  },
  "language_info": {
   "codemirror_mode": {
    "name": "ipython",
    "version": 3
   },
   "file_extension": ".py",
   "mimetype": "text/x-python",
   "name": "python",
   "nbconvert_exporter": "python",
   "pygments_lexer": "ipython3",
   "version": "3.12.0"
  }
 },
 "nbformat": 4,
 "nbformat_minor": 5
}
